{
 "cells": [
  {
   "cell_type": "markdown",
   "metadata": {},
   "source": [
    "## Problem 1\n",
    "\n",
    "```\n",
    "Use prototype pattern and classes of your choice. create an abstract class Shape and concrete classes extending the Shape class: Circle, Square and Rectangle. Define a class ShapeCache which stores shape objects in a dictionary and returns their clones when requested.\n",
    "```"
   ]
  },
  {
   "cell_type": "code",
   "execution_count": 1,
   "metadata": {},
   "outputs": [
    {
     "name": "stdout",
     "output_type": "stream",
     "text": [
      "Circle\n",
      "Square\n",
      "Rectangle\n"
     ]
    }
   ],
   "source": [
    "from abc import ABCMeta, abstractmethod\n",
    "import copy\n",
    "\n",
    "\n",
    "class Shape(metaclass = ABCMeta):\n",
    "      \n",
    "    def __init__(self):\n",
    "        self.id = None\n",
    "        self.type = None\n",
    "  \n",
    "    @abstractmethod\n",
    "    def draw(self):\n",
    "        pass\n",
    "  \n",
    "    def get_type(self):\n",
    "        return self.type\n",
    "    \n",
    "    def set_type(self, typeof):\n",
    "        self.type = typeof\n",
    "  \n",
    "    def get_id(self):\n",
    "        return self.id\n",
    "  \n",
    "    def set_id(self, _id):\n",
    "        self.id = _id\n",
    "  \n",
    "    def clone(self):\n",
    "        return copy.copy(self)\n",
    "    \n",
    "    \n",
    "class Circle(Shape):\n",
    "    def __init__(self):\n",
    "        super().__init__()\n",
    "        self.set_type('Circle')\n",
    "  \n",
    "    def draw(self):\n",
    "        print('Drawing a circle...')\n",
    "        \n",
    "\n",
    "class Square(Shape):\n",
    "    def __init__(self):\n",
    "        super().__init__()\n",
    "        self.set_type('Square')\n",
    "  \n",
    "    def draw(self):\n",
    "        print('Drawing a square...')\n",
    "        \n",
    "        \n",
    "class Rectangle(Shape):\n",
    "    def __init__(self):\n",
    "        super().__init__()\n",
    "        self.set_type('Rectangle')\n",
    "  \n",
    "    def draw(self):\n",
    "        print('Drawing a rectangle...')\n",
    "        \n",
    "        \n",
    "class ShapeCache:\n",
    "      \n",
    "    \n",
    "    cache = {}\n",
    "  \n",
    "    @staticmethod\n",
    "    def get(_id):\n",
    "        shape = ShapeCache.cache.get(_id, None)\n",
    "\n",
    "        return shape.clone()\n",
    "  \n",
    "    @staticmethod\n",
    "    def load():\n",
    "        circle = Circle()\n",
    "        circle.set_id(1)\n",
    "        ShapeCache.cache[circle.get_id()] = circle\n",
    "  \n",
    "        square = Square()\n",
    "        square.set_id(2)\n",
    "        ShapeCache.cache[square.get_id()] = square\n",
    "  \n",
    "        rectangle = Rectangle()\n",
    "        rectangle.set_id(3)\n",
    "        ShapeCache.cache[rectangle.get_id()] = rectangle\n",
    "        \n",
    "        \n",
    "ShapeCache.load()\n",
    "\n",
    "circle = ShapeCache.get(1)\n",
    "print(circle.get_type())\n",
    "\n",
    "square = ShapeCache.get(2)\n",
    "print(square.get_type())\n",
    "\n",
    "rectangle = ShapeCache.get(3)\n",
    "print(rectangle.get_type())"
   ]
  },
  {
   "cell_type": "markdown",
   "metadata": {},
   "source": [
    "## Problem 2\n",
    "\n",
    "```\n",
    "Use adapter pattern and classes of your choice. Create a structure where you have 1-2 adaptees that have a method that returns some text in spanish. Have an adapter which will have a method that translates the text to english.\n",
    "```"
   ]
  },
  {
   "cell_type": "code",
   "execution_count": 7,
   "metadata": {},
   "outputs": [
    {
     "name": "stdout",
     "output_type": "stream",
     "text": [
      "Translation of word Amigo is: Friend\n"
     ]
    }
   ],
   "source": [
    "import abc\n",
    " \n",
    "\n",
    "class Target(metaclass=abc.ABCMeta):\n",
    "    \n",
    "    \n",
    "    def __init__(self):\n",
    "        self._adaptee = None\n",
    "        \n",
    " \n",
    "    @abc.abstractmethod\n",
    "    def translate(self):\n",
    "        pass\n",
    "    \n",
    "    \n",
    "    def set_adaptee(self, adaptee):\n",
    "        self._adaptee = adaptee\n",
    " \n",
    " \n",
    "class Adapter(Target):\n",
    "    DICTIONARY = {\n",
    "\n",
    "        'Amigo': 'Friend'\n",
    "    }\n",
    "    \n",
    "    \n",
    "    def __init__(self, adaptee):\n",
    "        self.set_adaptee(adaptee)\n",
    " \n",
    "    def translate(self):\n",
    "        word_to_translate = self._adaptee.write()\n",
    "        print(\"Translation of word\", word_to_translate, \"is:\",Adapter.DICTIONARY[word_to_translate])\n",
    "         \n",
    " \n",
    " \n",
    "\n",
    "    \n",
    "class SpanishFriend: #Adaptee\n",
    "\n",
    " \n",
    "    def write(self):\n",
    "        return 'Amigo'\n",
    "\n",
    "adapter = Adapter(SpanishFriend())\n",
    "adapter.translate()"
   ]
  },
  {
   "cell_type": "markdown",
   "metadata": {},
   "source": [
    "## Problem 3\n",
    "\n",
    "```\n",
    "Use singleton pattern and classes of your choice. Create a structure where you have some resource that has states busy and free and 3 users that try to use the resource and change the state to busy while they are using it. The resource should be singleton. Implement following 2 different methods for singleton implementation that we have discussion. \n",
    "```"
   ]
  },
  {
   "cell_type": "code",
   "execution_count": 10,
   "metadata": {},
   "outputs": [
    {
     "name": "stdout",
     "output_type": "stream",
     "text": [
      "busy\n",
      "busy\n",
      "busy\n",
      "free\n",
      "free\n",
      "free\n"
     ]
    }
   ],
   "source": [
    "class schedule:\n",
    "  \n",
    "    __shared_state = dict()\n",
    "    \n",
    "    def __init__(self):\n",
    "        self.__dict__ = self.__shared_state\n",
    "        self.state = 'free'\n",
    "  \n",
    "    def __str__(self):\n",
    "        return self.state\n",
    "  \n",
    "\n",
    "  \n",
    "poghos = schedule()\n",
    "petros = schedule()\n",
    "martiros = schedule()\n",
    "\n",
    "poghos.state = 'busy'\n",
    "\n",
    "print(poghos.state)\n",
    "print(petros.state)\n",
    "print(martiros.state)\n",
    "\n",
    "poghos.state = 'free'\n",
    "\n",
    "print(poghos.state)\n",
    "print(petros.state)\n",
    "print(martiros.state)\n"
   ]
  },
  {
   "cell_type": "code",
   "execution_count": 14,
   "metadata": {},
   "outputs": [
    {
     "name": "stdout",
     "output_type": "stream",
     "text": [
      "free\n",
      "free\n",
      "busy\n",
      "busy\n",
      "busy\n"
     ]
    }
   ],
   "source": [
    "class schedule:\n",
    "  \n",
    "    __shared_instance = 'free'\n",
    "  \n",
    "    @staticmethod\n",
    "    def getInstance():\n",
    "        if schedule.__shared_instance == 'free':\n",
    "            schedule()\n",
    "        return schedule.__shared_instance\n",
    "  \n",
    "    def __init__(self):\n",
    "        if schedule.__shared_instance != 'free':\n",
    "            raise Exception ('This class is a singleton class !')\n",
    "        else:\n",
    "            self.state = 'free'\n",
    "            schedule.__shared_instance = self\n",
    "\n",
    "\n",
    "poghos = schedule()\n",
    "petros = schedule.getInstance()\n",
    "\n",
    "print(poghos.state)\n",
    "print(petros.state)\n",
    "\n",
    "petros.state = 'busy'\n",
    "\n",
    "martiros = schedule.getInstance()\n",
    "\n",
    "print(poghos.state)\n",
    "print(petros.state)\n",
    "print(martiros.state)"
   ]
  },
  {
   "cell_type": "code",
   "execution_count": 15,
   "metadata": {},
   "outputs": [
    {
     "ename": "Exception",
     "evalue": "This class is a singleton class !",
     "output_type": "error",
     "traceback": [
      "\u001b[0;31m---------------------------------------------------------------------------\u001b[0m",
      "\u001b[0;31mException\u001b[0m                                 Traceback (most recent call last)",
      "\u001b[0;32m<ipython-input-15-70382cb4a7fe>\u001b[0m in \u001b[0;36m<module>\u001b[0;34m\u001b[0m\n\u001b[0;32m----> 1\u001b[0;31m \u001b[0mjobayden\u001b[0m \u001b[0;34m=\u001b[0m \u001b[0mschedule\u001b[0m\u001b[0;34m(\u001b[0m\u001b[0;34m)\u001b[0m\u001b[0;34m\u001b[0m\u001b[0;34m\u001b[0m\u001b[0m\n\u001b[0m",
      "\u001b[0;32m<ipython-input-14-8cf249329089>\u001b[0m in \u001b[0;36m__init__\u001b[0;34m(self)\u001b[0m\n\u001b[1;32m     11\u001b[0m     \u001b[0;32mdef\u001b[0m \u001b[0m__init__\u001b[0m\u001b[0;34m(\u001b[0m\u001b[0mself\u001b[0m\u001b[0;34m)\u001b[0m\u001b[0;34m:\u001b[0m\u001b[0;34m\u001b[0m\u001b[0;34m\u001b[0m\u001b[0m\n\u001b[1;32m     12\u001b[0m         \u001b[0;32mif\u001b[0m \u001b[0mschedule\u001b[0m\u001b[0;34m.\u001b[0m\u001b[0m__shared_instance\u001b[0m \u001b[0;34m!=\u001b[0m \u001b[0;34m'free'\u001b[0m\u001b[0;34m:\u001b[0m\u001b[0;34m\u001b[0m\u001b[0;34m\u001b[0m\u001b[0m\n\u001b[0;32m---> 13\u001b[0;31m             \u001b[0;32mraise\u001b[0m \u001b[0mException\u001b[0m \u001b[0;34m(\u001b[0m\u001b[0;34m'This class is a singleton class !'\u001b[0m\u001b[0;34m)\u001b[0m\u001b[0;34m\u001b[0m\u001b[0;34m\u001b[0m\u001b[0m\n\u001b[0m\u001b[1;32m     14\u001b[0m         \u001b[0;32melse\u001b[0m\u001b[0;34m:\u001b[0m\u001b[0;34m\u001b[0m\u001b[0;34m\u001b[0m\u001b[0m\n\u001b[1;32m     15\u001b[0m             \u001b[0mself\u001b[0m\u001b[0;34m.\u001b[0m\u001b[0mstate\u001b[0m \u001b[0;34m=\u001b[0m \u001b[0;34m'free'\u001b[0m\u001b[0;34m\u001b[0m\u001b[0;34m\u001b[0m\u001b[0m\n",
      "\u001b[0;31mException\u001b[0m: This class is a singleton class !"
     ]
    }
   ],
   "source": [
    "jobayden = schedule()"
   ]
  },
  {
   "cell_type": "code",
   "execution_count": null,
   "metadata": {},
   "outputs": [],
   "source": []
  }
 ],
 "metadata": {
  "kernelspec": {
   "display_name": "Python 3",
   "language": "python",
   "name": "python3"
  },
  "language_info": {
   "codemirror_mode": {
    "name": "ipython",
    "version": 3
   },
   "file_extension": ".py",
   "mimetype": "text/x-python",
   "name": "python",
   "nbconvert_exporter": "python",
   "pygments_lexer": "ipython3",
   "version": "3.8.8"
  }
 },
 "nbformat": 4,
 "nbformat_minor": 4
}
